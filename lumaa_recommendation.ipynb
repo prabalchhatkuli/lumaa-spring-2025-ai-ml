{
 "cells": [
  {
   "cell_type": "markdown",
   "metadata": {},
   "source": [
    "# Plot based Similarity for movies"
   ]
  },
  {
   "cell_type": "markdown",
   "metadata": {},
   "source": [
    "## Imports"
   ]
  },
  {
   "cell_type": "code",
   "execution_count": 1,
   "metadata": {},
   "outputs": [],
   "source": [
    "import numpy as np\n",
    "import pandas as pd\n",
    "import matplotlib.pyplot as plt\n",
    "import sklearn\n",
    "import seaborn as sns"
   ]
  },
  {
   "cell_type": "markdown",
   "metadata": {},
   "source": [
    "#### Dataset used is from https://www.kaggle.com/datasets/jrobischon/wikipedia-movie-plots/data"
   ]
  },
  {
   "cell_type": "code",
   "execution_count": 2,
   "metadata": {
    "collapsed": false,
    "pycharm": {
     "name": "#%%\n"
    }
   },
   "outputs": [],
   "source": [
    "df = pd.read_csv('wiki_movie_plots_deduped.csv')"
   ]
  },
  {
   "cell_type": "code",
   "execution_count": 3,
   "metadata": {},
   "outputs": [
    {
     "name": "stdout",
     "output_type": "stream",
     "text": [
      "(34886, 8)\n"
     ]
    }
   ],
   "source": [
    "print(df.shape)"
   ]
  },
  {
   "cell_type": "code",
   "execution_count": 4,
   "metadata": {},
   "outputs": [
    {
     "name": "stdout",
     "output_type": "stream",
     "text": [
      "Index(['Release Year', 'Title', 'Origin/Ethnicity', 'Director', 'Cast',\n",
      "       'Genre', 'Wiki Page', 'Plot'],\n",
      "      dtype='object')\n"
     ]
    }
   ],
   "source": [
    "print(df.columns)"
   ]
  },
  {
   "cell_type": "code",
   "execution_count": 5,
   "metadata": {},
   "outputs": [
    {
     "name": "stdout",
     "output_type": "stream",
     "text": [
      "   Release Year                             Title Origin/Ethnicity  \\\n",
      "0          1901            Kansas Saloon Smashers         American   \n",
      "1          1901     Love by the Light of the Moon         American   \n",
      "2          1901           The Martyred Presidents         American   \n",
      "3          1901  Terrible Teddy, the Grizzly King         American   \n",
      "4          1902            Jack and the Beanstalk         American   \n",
      "\n",
      "                             Director Cast    Genre  \\\n",
      "0                             Unknown  NaN  unknown   \n",
      "1                             Unknown  NaN  unknown   \n",
      "2                             Unknown  NaN  unknown   \n",
      "3                             Unknown  NaN  unknown   \n",
      "4  George S. Fleming, Edwin S. Porter  NaN  unknown   \n",
      "\n",
      "                                           Wiki Page  \\\n",
      "0  https://en.wikipedia.org/wiki/Kansas_Saloon_Sm...   \n",
      "1  https://en.wikipedia.org/wiki/Love_by_the_Ligh...   \n",
      "2  https://en.wikipedia.org/wiki/The_Martyred_Pre...   \n",
      "3  https://en.wikipedia.org/wiki/Terrible_Teddy,_...   \n",
      "4  https://en.wikipedia.org/wiki/Jack_and_the_Bea...   \n",
      "\n",
      "                                                Plot  \n",
      "0  A bartender is working at a saloon, serving dr...  \n",
      "1  The moon, painted with a smiling face hangs ov...  \n",
      "2  The film, just over a minute long, is composed...  \n",
      "3  Lasting just 61 seconds and consisting of two ...  \n",
      "4  The earliest known adaptation of the classic f...  \n"
     ]
    }
   ],
   "source": [
    "print(df.head())"
   ]
  },
  {
   "cell_type": "markdown",
   "metadata": {},
   "source": [
    "## Data Cleaning and Subset Selection"
   ]
  },
  {
   "cell_type": "code",
   "execution_count": 6,
   "metadata": {},
   "outputs": [
    {
     "data": {
      "text/plain": [
       "Release Year        34886\n",
       "Title               34886\n",
       "Origin/Ethnicity    34886\n",
       "Director            34886\n",
       "Cast                33464\n",
       "Genre               34886\n",
       "Wiki Page           34886\n",
       "Plot                34886\n",
       "dtype: int64"
      ]
     },
     "execution_count": 6,
     "metadata": {},
     "output_type": "execute_result"
    }
   ],
   "source": [
    "df_cleaned = df.dropna(subset=['Title','Plot'])\n",
    "df_cleaned['Plot'] = df_cleaned['Plot'].str.lower()\n",
    "df_cleaned['Genre'] = df_cleaned['Genre'].str.lower()\n",
    "df_cleaned.count()"
   ]
  },
  {
   "cell_type": "code",
   "execution_count": 7,
   "metadata": {},
   "outputs": [],
   "source": [
    "import re\n",
    "\n",
    "def clean_plot(plot):\n",
    "   if not isinstance(plot, str):\n",
    "        return \"\"\n",
    "   plot = re.sub(r'\\s+', ' ', plot) #extra spaces\n",
    "   plot = re.sub(r'[^a-zA-Z0-9.,?! ]', '', plot) #special characters\n",
    "   return plot"
   ]
  },
  {
   "cell_type": "code",
   "execution_count": 8,
   "metadata": {},
   "outputs": [],
   "source": [
    "df_cleaned['Plot'] = df_cleaned['Plot'].apply(clean_plot)"
   ]
  },
  {
   "cell_type": "markdown",
   "metadata": {},
   "source": [
    "#### We only need a subset of this data. Originally this dataset has ~34000 rows, but we will carefully slice ~500 rows from this. Additionally, we will only take 3 columns: Release Year, Title, and Plot"
   ]
  },
  {
   "cell_type": "markdown",
   "metadata": {},
   "source": [
    "#### In this case we will randomly select rows based on the genre in order to get a uniformly distributed data across all genres"
   ]
  },
  {
   "cell_type": "code",
   "execution_count": 9,
   "metadata": {},
   "outputs": [],
   "source": [
    "np.random.seed(42)"
   ]
  },
  {
   "cell_type": "code",
   "execution_count": 10,
   "metadata": {},
   "outputs": [
    {
     "data": {
      "text/plain": [
       "Genre\n",
       "unknown                          0.174368\n",
       "drama                            0.170957\n",
       "comedy                           0.125523\n",
       "horror                           0.033452\n",
       "action                           0.031474\n",
       "                                   ...   \n",
       "cbc-tv miniseries                0.000029\n",
       "bio-drama                        0.000029\n",
       "national film board docudrama    0.000029\n",
       "cult drama                       0.000029\n",
       "horror romantic comedy           0.000029\n",
       "Name: proportion, Length: 2265, dtype: float64"
      ]
     },
     "execution_count": 10,
     "metadata": {},
     "output_type": "execute_result"
    }
   ],
   "source": [
    "genre_proportions = df_cleaned['Genre'].value_counts(normalize=True)\n",
    "genre_proportions"
   ]
  },
  {
   "cell_type": "code",
   "execution_count": 11,
   "metadata": {},
   "outputs": [],
   "source": [
    "top_20_genres = df_cleaned['Genre'].value_counts().nlargest(20).index"
   ]
  },
  {
   "cell_type": "code",
   "execution_count": 12,
   "metadata": {},
   "outputs": [
    {
     "data": {
      "text/plain": [
       "Index(['unknown', 'drama', 'comedy', 'horror', 'action', 'thriller', 'romance',\n",
       "       'western', 'crime', 'adventure', 'musical', 'crime drama',\n",
       "       'romantic comedy', 'science fiction', 'film noir', 'mystery', 'war',\n",
       "       'animation', 'comedy, drama', 'sci-fi'],\n",
       "      dtype='object', name='Genre')"
      ]
     },
     "execution_count": 12,
     "metadata": {},
     "output_type": "execute_result"
    }
   ],
   "source": [
    "top_20_genres"
   ]
  },
  {
   "cell_type": "markdown",
   "metadata": {},
   "source": [
    "#### We are also going to take the unknown genre because it is the highest in proportion"
   ]
  },
  {
   "cell_type": "code",
   "execution_count": 13,
   "metadata": {},
   "outputs": [],
   "source": [
    "dataset_size = 1000"
   ]
  },
  {
   "cell_type": "code",
   "execution_count": 14,
   "metadata": {},
   "outputs": [
    {
     "data": {
      "text/plain": [
       "Genre\n",
       "unknown            0.233980\n",
       "drama              0.229402\n",
       "comedy             0.168436\n",
       "horror             0.044888\n",
       "action             0.042234\n",
       "thriller           0.037157\n",
       "romance            0.035503\n",
       "western            0.033272\n",
       "crime              0.021848\n",
       "adventure          0.020232\n",
       "musical            0.017963\n",
       "crime drama        0.017848\n",
       "romantic comedy    0.017732\n",
       "science fiction    0.016078\n",
       "film noir          0.013270\n",
       "mystery            0.011924\n",
       "war                0.010501\n",
       "animation          0.010155\n",
       "comedy, drama      0.009078\n",
       "sci-fi             0.008501\n",
       "Name: proportion, dtype: float64"
      ]
     },
     "execution_count": 14,
     "metadata": {},
     "output_type": "execute_result"
    }
   ],
   "source": [
    "df_top_20_genres = df_cleaned[df_cleaned['Genre'].isin(top_20_genres)]\n",
    "selected_genre_proportions = df_top_20_genres['Genre'].value_counts(normalize=True)\n",
    "selected_genre_proportions"
   ]
  },
  {
   "cell_type": "code",
   "execution_count": 15,
   "metadata": {},
   "outputs": [],
   "source": [
    "samples_per_genre = max(1, dataset_size // len(top_20_genres))"
   ]
  },
  {
   "cell_type": "code",
   "execution_count": 16,
   "metadata": {},
   "outputs": [
    {
     "name": "stderr",
     "output_type": "stream",
     "text": [
      "/var/folders/j3/1tqsh61545z4hkn9_8qq3nzr0000gn/T/ipykernel_45186/2573792132.py:3: DeprecationWarning: DataFrameGroupBy.apply operated on the grouping columns. This behavior is deprecated, and in a future version of pandas the grouping columns will be excluded from the operation. Either pass `include_groups=False` to exclude the groupings or explicitly select the grouping columns after groupby to silence this warning.\n",
      "  .apply(lambda x: x.sample(min(len(x), samples_per_genre), random_state=42))\n"
     ]
    }
   ],
   "source": [
    "df_subset = (\n",
    "        df_top_20_genres.groupby('Genre', group_keys=False)\n",
    "        .apply(lambda x: x.sample(min(len(x), samples_per_genre), random_state=42))\n",
    "    )\n",
    "\n",
    "# shuffled\n",
    "df_subset = df_subset.sample(frac=1, random_state=42)"
   ]
  },
  {
   "cell_type": "code",
   "execution_count": 17,
   "metadata": {},
   "outputs": [
    {
     "data": {
      "text/plain": [
       "Genre\n",
       "musical            0.05\n",
       "sci-fi             0.05\n",
       "mystery            0.05\n",
       "horror             0.05\n",
       "comedy, drama      0.05\n",
       "drama              0.05\n",
       "comedy             0.05\n",
       "crime drama        0.05\n",
       "science fiction    0.05\n",
       "crime              0.05\n",
       "war                0.05\n",
       "western            0.05\n",
       "adventure          0.05\n",
       "thriller           0.05\n",
       "animation          0.05\n",
       "unknown            0.05\n",
       "romance            0.05\n",
       "film noir          0.05\n",
       "romantic comedy    0.05\n",
       "action             0.05\n",
       "Name: proportion, dtype: float64"
      ]
     },
     "execution_count": 17,
     "metadata": {},
     "output_type": "execute_result"
    }
   ],
   "source": [
    "after_selection_proportions = df_subset['Genre'].value_counts(normalize=True)\n",
    "after_selection_proportions"
   ]
  },
  {
   "cell_type": "markdown",
   "metadata": {},
   "source": [
    "#### Now that every genre has uniform number of movies, we will move towards the analysis"
   ]
  },
  {
   "cell_type": "markdown",
   "metadata": {},
   "source": [
    "## Preprocessing"
   ]
  },
  {
   "cell_type": "code",
   "execution_count": 18,
   "metadata": {},
   "outputs": [],
   "source": [
    "from sklearn.feature_extraction.text import TfidfVectorizer\n",
    "\n",
    "def vectorize_text(df, column):\n",
    "   max_features = 5000\n",
    "   text_list = df[column].tolist()\n",
    "   vectorizer = TfidfVectorizer(stop_words=\"english\", max_features=max_features, max_df=0.85)\n",
    "   tf_matrix = vectorizer.fit_transform(text_list)\n",
    "   return tf_matrix, vectorizer"
   ]
  },
  {
   "cell_type": "code",
   "execution_count": 19,
   "metadata": {},
   "outputs": [
    {
     "data": {
      "text/plain": [
       "(1000, 5000)"
      ]
     },
     "execution_count": 19,
     "metadata": {},
     "output_type": "execute_result"
    }
   ],
   "source": [
    "tf_matrix, vectorizer = vectorize_text(df_subset, 'Plot')\n",
    "tf_matrix.shape"
   ]
  },
  {
   "cell_type": "markdown",
   "metadata": {},
   "source": [
    "## Similar Movies using Cosine Similarity"
   ]
  },
  {
   "cell_type": "code",
   "execution_count": 20,
   "metadata": {},
   "outputs": [],
   "source": [
    "from sklearn.metrics.pairwise import cosine_similarity\n",
    "\n",
    "def similar_movies(input_descr, n,tf_matrix, vectorizer, df_subset):\n",
    "   input_descr_vector = vectorizer.transform([input_descr])\n",
    "   similarity_scores = cosine_similarity(input_descr_vector, tf_matrix).flatten()\n",
    "\n",
    "   most_similar_indices = similarity_scores.argsort()[::-1][:n]\n",
    "   top_n = [(similarity_scores[i], df_subset.iloc[i]) for i in most_similar_indices]\n",
    "\n",
    "   return top_n"
   ]
  },
  {
   "cell_type": "code",
   "execution_count": 21,
   "metadata": {},
   "outputs": [
    {
     "name": "stdout",
     "output_type": "stream",
     "text": [
      "Top Similar Movies:\n",
      "Similarity: 0.2854\n",
      "Title: Bodacious Space Pirates: Abyss of Hyperspace\n",
      "Release Year: 2014\n",
      "Genre: adventure\n",
      "Plot: in the far future where space travel and colonialization have become the norm, humanity has expanded its living space to the far reaches of the known galaxy. one hundred years before the beginning of the series, several colonies, eager to gain their independence, rebelled against their masters in the stellar alliance colony federation. the government of one of the newly colonized planets, sea of the morningstar  in the tau ceti system, recruited space pirates to bolster its fighting forces, legalizing their actions by issuing them letters of marque. in the midst of this conflict, a galactic empire arose and absorbed both the stellar alliance and the border worlds, but allowed the colonies to run on an independent government. despite peace having been achieved, the space pirates remain respected figures in imperial society, even though their activities are now reduced to more legal jobs like errand running and staging raids for the entertainment of space travellers in which their knowledge of the systems wild space proves particularly useful. at the time the series begins, their cessation of illegal activities is gradually causing them to pass into local legend. marika kato is a high school girl living a rather ordinary life as a member of the space yacht club and a parttime job at the highclass retro lamp caf. one day, marika learns of her recently deceased father, gonzaemon, who is revealed to have been a space pirate. in order for her fathers ship, the bentenmaru , to continue legal operation, marika, gonzaemons direct descendant, is chosen to become the ships new captain, thus beginning her life as a space pirate.\n",
      "--------------------------------------------------\n",
      "Similarity: 0.1685\n",
      "Title: Gagarin: First in Space\n",
      "Release Year: 2013\n",
      "Genre: unknown\n",
      "Plot: on april 12, 1961, soviet cosmonaut yuri gagarin blasted off in a vostok rocket, becoming the first human in space and orbiting earth for 108 minutes. he was one of the first group of cosmonauts who were selected from over three thousand fighter pilots throughout the soviet union. the legendary top twenty who were selected were the ace of aces and none of the pilots knew which amongst them would make history on the first manned flight. once chosen gagarin is fasttracked to train for the unknown and the trip of a lifetime. whilst strapped into his rocket, gagarin reflects on his life, which is intercut with the determination of the russian space team and their untiring efforts to conquer space.\n",
      "--------------------------------------------------\n",
      "Similarity: 0.1327\n",
      "Title: Gorath\n",
      "Release Year: 1962\n",
      "Genre: sci-fi\n",
      "Plot: early in the year of 1979, japans most famed rocketship, the jx1 hawk, with its crew of 30 men, was launched from the interstellar exploration agencys rocket launch site at mt fuji into space on a 9month journey to investigate the planet saturn. after a 9 months journey to saturn, the crew are given a new directive for the mission from earth. it was discovered that a small, runaway planet, which some scientists believed to be the solid megadense core of a collapsed star that had somehow run amok. it is subsequently given the name gorath by the international scientific community, had entered earths solar system. upon encountering gorath and attempting to investigate its rapid movement in the solar system, they discover that gorath is smaller than earth but with 6000 times earths gravity. the jx1 is caught in its gravity well and its entire crew of the spacecraft lose their lives as the enormous gravity well of the approaching celestial body destroyed the ship. back on earth during the christmas season, the transmitted data made its way back to earth. a month later in 1980, astronomers and astrophysicists throughout the international community announce that the enormous celestial body would collide with the earth in two years time. later at the united nations, a gathering of earths top scientists resolved to this allimportant goal by pooling together large amounts of technical advancements they made in the past two decades. after much debriefing, the scientific community unveiled their plan to save the earth. they dub the plan the south pole operation. the south pole operation base is to be designed to house a large international team of engineers and scientists. the plan involves the construction of huge rocket thruster engines, 500 meters below the surface and in an area 600 kilometers in diameter, producing an atomic force equal to that of 6,600,000,000 megatons. when completed and activated, these megathrusters would serve to literally move the earth more than 400,000 kilometers out of its orbit in 100 days until it was safely out of range of both the approaching star gorath and its devastating gravity well, and then move the earth back into its proper orbit once the danger had completely passed. the u.n. then sends the remaining prototype sublight spacecraft jx2 eagle into space to obtain further data on gorath. construction on the massive south pole base is put into action as ships and helicopters from many nations bring in building material necessary to the plan. in addition, powerful mobile heatgenerating devices known as atomic burrowers were quickly cobbled together to assist in the project of creating the caverns in the icy terrain of the antarctic that would be needed to house the booster rockets. meanwhile, in deep space, the jx2 eagle succeeds in its mission. the data they acquired, including the disturbing fact that gorath was continuously adding to its mass by absorbing more space debris in the path of its gravity well. this information was sent to the u.n. personnel on the three space stations sss1, terra and delta. back on earth, the first preliminary test of the rocket thrusters is about to commence. around the world, anxious citizens watch live television broadcasts of the event. the thrusters are activated and the results are witness from the orbiting space stations the earth is gently along. the south pole operation is hailed as a success and the earth was moving out of the way of goraths path. meanwhile, in space, with this news, the jx2 eagle is ordered to return to its base on earth, along with the threespace stations all of which were moved from orbit to avoid having the multibilliondollar constructs being struck by gorath when it approached the earth. back on earth, an unexpected threat was literally unearthed when the completed rocket boosters were tested. the backlash of incredible heat this created caused a gigantic, 30meterlong walrus to emerge from its home deep below the frozen tundra this creature was later named maguma in japanese press info about this incident maguma was evidently a hidden remnant of prehistoric creatures that survived into modern times. angered by the dramatic intrusion into his home, maguma began attacking the u.n. base. acting to save the installation, a small vtol craft that was used as a means of fast cargo transport, but also equipped with a powerful laser, was sent to stop the kaijus assault. the pilot was determined to halt the creature without killing him, and initially used the laser cannon to cause an avalanche that buried the beast. maguma easily escaped, however, and continued his attack. this left the south pole crew no choice but to turn the crafts deadly laser beam on the creature himself, and the enormous animal was killed. back in deep space, gorath was continuing its destructive path, now absorbing the rings of saturn. the jx2 and the three space stations finally arrive back on earth. sometime later, gorath is close enough to the earth to be seen by the naked eye and the atmosphere is reacting as the clouds are drawn toward the star. tides begin to rise and a state of emergency is declared. the moon, earths lone satellite is pulled in by goraths gravity well and is obliterated. goraths full effect upon the earth is felt as the great city of tokyo is flooded by a tsunami. at the interstellar exploration agency launch site at mt fuji, the jx2 and the space station terra are destroyed by an earthquake. the situation also became critical at the south pole operation base, as flooding waters enter the thruster area, extinguishing several fires. after the critical moment passed, the full global cooperation of every nation on the planet succeeded marvelously and earth was moved out of goraths path, and then successfully actuated back into its normal orbit, thus saving the planet from destruction.\n",
      "--------------------------------------------------\n"
     ]
    }
   ],
   "source": [
    "input_descr = \"A thrilling story about people traveling across the space to save humanity from destruction\"\n",
    "top_movies = similar_movies(input_descr, 3, tf_matrix, vectorizer, df_subset)\n",
    "print(\"Top Similar Movies:\")\n",
    "for score, movie in top_movies:\n",
    "    print(f\"Similarity: {score:.4f}\")\n",
    "    print(f\"Title: {movie['Title']}\")\n",
    "    print(f\"Release Year: {movie['Release Year']}\")\n",
    "    print(f\"Genre: {movie['Genre']}\")\n",
    "    print(f\"Plot: {movie['Plot']}\")\n",
    "    print(\"-\" * 50)"
   ]
  },
  {
   "cell_type": "code",
   "execution_count": null,
   "metadata": {},
   "outputs": [],
   "source": []
  }
 ],
 "metadata": {
  "kernelspec": {
   "display_name": "NLP",
   "language": "python",
   "name": "python3"
  },
  "language_info": {
   "codemirror_mode": {
    "name": "ipython",
    "version": 3
   },
   "file_extension": ".py",
   "mimetype": "text/x-python",
   "name": "python",
   "nbconvert_exporter": "python",
   "pygments_lexer": "ipython3",
   "version": "3.10.16"
  }
 },
 "nbformat": 4,
 "nbformat_minor": 0
}
